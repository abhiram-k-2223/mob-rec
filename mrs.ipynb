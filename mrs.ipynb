{
 "cells": [
  {
   "cell_type": "markdown",
   "id": "d7bd98d6",
   "metadata": {},
   "source": [
    "<h1>this code is for the user to choose between mobile phones</h1>"
   ]
  },
  {
   "cell_type": "markdown",
   "id": "2d37aa16",
   "metadata": {},
   "source": [
    "import libraries"
   ]
  },
  {
   "cell_type": "code",
   "execution_count": 9,
   "id": "c6d86d6b",
   "metadata": {},
   "outputs": [],
   "source": [
    "import pandas as pd\n",
    "from sklearn.metrics.pairwise import cosine_similarity"
   ]
  },
  {
   "cell_type": "markdown",
   "id": "e16a69d4",
   "metadata": {},
   "source": [
    "read file"
   ]
  },
  {
   "cell_type": "code",
   "execution_count": null,
   "id": "5a35c4b8",
   "metadata": {},
   "outputs": [],
   "source": [
    "import pandas as pd\n",
    "file_path=r'C:\\Users\\LENOVO T480\\Desktop\\New folder\\phones\\mobile.csv'\n",
    "df=pd.read_csv(file_path)\n",
    "df.head()\n"
   ]
  },
  {
   "cell_type": "markdown",
   "id": "081ace2b",
   "metadata": {},
   "source": [
    "feature selection and user specified features choosing from the csv file"
   ]
  },
  {
   "cell_type": "code",
   "execution_count": null,
   "id": "9e262827",
   "metadata": {},
   "outputs": [],
   "source": [
    "selected_features=['Battery','Screen','RAM','Processor','Rear camera']\n",
    "feature_matrix=df[selected_features]\n",
    "similarity_matrix=cosine_similarity(feature_matrix,feature_matrix)\n",
    "\n",
    "user_specifications={'Battery':4085,'Screen':6.67,'RAM':12000,'Processor':8,'Rear camera':48}\n",
    "\n",
    "user_features=[user_specifications[feature] for feature in selected_features]\n",
    "user_features=[user_features]\n",
    "user_similarity=cosine_similarity(feature_matrix,user_features)"
   ]
  },
  {
   "cell_type": "markdown",
   "id": "86751acd",
   "metadata": {},
   "source": [
    "Printing the features as \"recommended mobiles\""
   ]
  },
  {
   "cell_type": "code",
   "execution_count": null,
   "id": "b677ba24",
   "metadata": {},
   "outputs": [],
   "source": [
    "df[\"Similarity\"]=user_similarity\n",
    "recommendation=df.sort_values(by=\"Similarity\",ascending=False)['Name'].head(5)\n",
    "print(\"recommended mobiles\")\n",
    "print(recommendation)"
   ]
  }
 ],
 "metadata": {
  "kernelspec": {
   "display_name": "Python 3 (ipykernel)",
   "language": "python",
   "name": "python3"
  },
  "language_info": {
   "codemirror_mode": {
    "name": "ipython",
    "version": 3
   },
   "file_extension": ".py",
   "mimetype": "text/x-python",
   "name": "python",
   "nbconvert_exporter": "python",
   "pygments_lexer": "ipython3",
   "version": "3.11.5"
  }
 },
 "nbformat": 4,
 "nbformat_minor": 5
}
